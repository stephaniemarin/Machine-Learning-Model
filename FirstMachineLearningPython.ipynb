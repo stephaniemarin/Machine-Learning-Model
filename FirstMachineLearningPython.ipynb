{
 "cells": [
  {
   "cell_type": "code",
   "execution_count": 2,
   "id": "e9c8d7a0-6ad6-45a4-a946-7e48cc500feb",
   "metadata": {},
   "outputs": [],
   "source": [
    "#the following are toy datasets\n",
    "from sklearn import datasets\n",
    "\n",
    "iris=datasets.load_iris()\n",
    "x=iris.data\n",
    "y=iris.target\n"
   ]
  },
  {
   "cell_type": "markdown",
   "id": "8cc437cd-cc33-4355-b668-1733bb4c6956",
   "metadata": {},
   "source": [
    "Section is importing the datasets form sklearn"
   ]
  },
  {
   "cell_type": "code",
   "execution_count": 3,
   "id": "6db84cd5-04ef-472d-a884-968f43092de3",
   "metadata": {},
   "outputs": [],
   "source": [
    "#importing pandas \n",
    "import pandas as pd\n",
    "#df = pd.read_csv('data.csv')#importing dataset into variable df\n",
    "\n",
    "df=pd.read_csv('https://raw.githubusercontent.com/dataprofessor/data/master/delaney_solubility_with_descriptors.csv')\n",
    "#data is now as dataframe in df variable\n"
   ]
  },
  {
   "cell_type": "markdown",
   "id": "e4be6353-d6e7-4df6-a4d3-5f2459f92961",
   "metadata": {},
   "source": [
    "importing pandas and declaring the df variable"
   ]
  },
  {
   "cell_type": "code",
   "execution_count": 4,
   "id": "3f930057-5e6d-43c4-a6f8-f470184634d0",
   "metadata": {},
   "outputs": [],
   "source": [
    "#scikit-learn library makes data as a suitable format\n",
    "#spliting variables to x and y\n",
    "\n",
    "X= df.drop(['logS'], axis=1)\n",
    "#logS is the name of last column and is dropped\n",
    "\n",
    "y= df.iloc[:,-1]\n",
    "y= df.logS"
   ]
  },
  {
   "cell_type": "markdown",
   "id": "4839caf5-9987-4809-9ef5-ad454641b468",
   "metadata": {},
   "source": [
    "Assigning variable to y in two alternative approaches, y=df['logS']  or  y=df.logS"
   ]
  },
  {
   "cell_type": "code",
   "execution_count": 5,
   "id": "bb29f0a4-e644-4ce4-aa44-68874511b768",
   "metadata": {},
   "outputs": [],
   "source": [
    "from sklearn.model_selection import train_test_split\n",
    "X_train, X_test, y_train, y_test = train_test_split(X, y, test_size = 0.2, random_state =42)\n"
   ]
  },
  {
   "cell_type": "markdown",
   "id": "53524d6d-2fb1-44d3-a048-4531ef5a37f0",
   "metadata": {},
   "source": [
    "test_size has 20% of the data and remaining 80% is for the training state.\n",
    "\n",
    "random seed is set to 42.\n",
    "\n",
    "Training sets (X_train and y_train).\n",
    "Test set ( X_test and y_test)"
   ]
  },
  {
   "cell_type": "markdown",
   "id": "b8fa90d5-613a-4655-899d-6c1864b4c4a9",
   "metadata": {},
   "source": [
    "1. Model Building: \n",
    "    LINEAL REGRESSION \n",
    "    * Model Building\n",
    "This is the traditional linear regression"
   ]
  },
  {
   "cell_type": "code",
   "execution_count": 6,
   "id": "64a76fbe-6568-4abe-94a3-4a5a36d0caea",
   "metadata": {},
   "outputs": [
    {
     "data": {
      "text/plain": [
       "LinearRegression(copy_X=True, fit_intercept=True, n_jobs=None,\n",
       "         normalize=False)"
      ]
     },
     "execution_count": 6,
     "metadata": {},
     "output_type": "execute_result"
    }
   ],
   "source": [
    "from sklearn.linear_model import LinearRegression\n",
    "#importing the linearRegression() function\n",
    "\n",
    "linearRegression= LinearRegression()\n",
    "linearRegression.fit(X_train, y_train)\n",
    "#the fit() function performs the actual model training"
   ]
  },
  {
   "cell_type": "code",
   "execution_count": 7,
   "id": "3d299ed6-bc12-4e1b-a396-61eefc389028",
   "metadata": {},
   "outputs": [],
   "source": [
    "y_linearRegression_train_prediction = linearRegression.predict(X_train)\n",
    "y_linearRegression_test_prediction = linearRegression.predict(X_test)"
   ]
  },
  {
   "cell_type": "markdown",
   "id": "6833be72-56d1-45d3-9b22-626ec653f30c",
   "metadata": {},
   "source": [
    "As we can see in the above code, the model (linearRegression) is applied to make predictions via the linearRegression.predict() function on the training set and test set."
   ]
  },
  {
   "cell_type": "markdown",
   "id": "17a26c67-c980-44dd-90a5-80953359a6ec",
   "metadata": {},
   "source": [
    "2. Model Performance:\n",
    "    for calculating the performance metrics so to determine the model performance"
   ]
  },
  {
   "cell_type": "code",
   "execution_count": 8,
   "id": "b85f276b-7b5a-404f-83a8-356e5b89a1db",
   "metadata": {},
   "outputs": [],
   "source": [
    "#importing mean_squared_error and r2_score from sklearn.metrics library to compute the performance metrics\n",
    "from sklearn.metrics import mean_squared_error, r2_score\n",
    "\n",
    "lr_train_mse = mean_squared_error (y_train, y_linearRegression_train_prediction)\n",
    "lr_train_r2 = r2_score(y_train, y_linearRegression_train_prediction)\n",
    "\n",
    "lr_test_mse = mean_squared_error(y_test, y_linearRegression_test_prediction)\n",
    "lr_test_r2 = r2_score(y_test, y_linearRegression_test_prediction)\n"
   ]
  },
  {
   "cell_type": "code",
   "execution_count": 9,
   "id": "ccad1a4a-2921-4f39-993d-f5e93ece8f11",
   "metadata": {},
   "outputs": [
    {
     "name": "stdout",
     "output_type": "stream",
     "text": [
      "1.0139894491573003\n",
      "0.7695127746587307\n",
      "0.9990844407075306\n",
      "0.7705650058569232\n"
     ]
    }
   ],
   "source": [
    "print(lr_train_mse)\n",
    "print(lr_train_r2)\n",
    "print(lr_test_mse)\n",
    "print(lr_test_r2)"
   ]
  },
  {
   "cell_type": "code",
   "execution_count": 10,
   "id": "1d01c035-4097-4ff8-b15d-2f91b943da2b",
   "metadata": {},
   "outputs": [],
   "source": [
    "lr_results = pd.DataFrame(['Linear Regression', lr_train_mse,lr_train_r2, lr_test_mse, lr_test_r2]).transpose()\n",
    "lr_results.columns =['Method','Training MSE', 'Training R2', 'Test MSE','Test R2']\n"
   ]
  },
  {
   "cell_type": "code",
   "execution_count": 11,
   "id": "28a91d4d-e9c1-4f44-9dfb-0659677279b5",
   "metadata": {
    "tags": []
   },
   "outputs": [
    {
     "data": {
      "text/html": [
       "<div>\n",
       "<style scoped>\n",
       "    .dataframe tbody tr th:only-of-type {\n",
       "        vertical-align: middle;\n",
       "    }\n",
       "\n",
       "    .dataframe tbody tr th {\n",
       "        vertical-align: top;\n",
       "    }\n",
       "\n",
       "    .dataframe thead th {\n",
       "        text-align: right;\n",
       "    }\n",
       "</style>\n",
       "<table border=\"1\" class=\"dataframe\">\n",
       "  <thead>\n",
       "    <tr style=\"text-align: right;\">\n",
       "      <th></th>\n",
       "      <th>Method</th>\n",
       "      <th>Training MSE</th>\n",
       "      <th>Training R2</th>\n",
       "      <th>Test MSE</th>\n",
       "      <th>Test R2</th>\n",
       "    </tr>\n",
       "  </thead>\n",
       "  <tbody>\n",
       "    <tr>\n",
       "      <th>0</th>\n",
       "      <td>Linear Regression</td>\n",
       "      <td>1.01399</td>\n",
       "      <td>0.769513</td>\n",
       "      <td>0.999084</td>\n",
       "      <td>0.770565</td>\n",
       "    </tr>\n",
       "  </tbody>\n",
       "</table>\n",
       "</div>"
      ],
      "text/plain": [
       "              Method Training MSE Training R2  Test MSE   Test R2\n",
       "0  Linear Regression      1.01399    0.769513  0.999084  0.770565"
      ]
     },
     "execution_count": 11,
     "metadata": {},
     "output_type": "execute_result"
    }
   ],
   "source": [
    "#print(lr_results)\n",
    "pd.concat([lr_results])"
   ]
  },
  {
   "cell_type": "markdown",
   "id": "cef7c422-58d4-4820-80de-e56796fd013d",
   "metadata": {},
   "source": [
    "3. Random Forest: RF COMBINES THE PREDICTIONS OF SEVERAL DECISION TREES. Great feature is the GIni index\n",
    "    values that it produces fro constructed models.\n",
    " .   "
   ]
  },
  {
   "cell_type": "code",
   "execution_count": 12,
   "id": "efbe2a65-0ac5-455f-82fd-6c95e2437fa8",
   "metadata": {},
   "outputs": [
    {
     "name": "stderr",
     "output_type": "stream",
     "text": [
      "/home/jupyterlab/conda/envs/python/lib/python3.6/site-packages/sklearn/ensemble/forest.py:246: FutureWarning: The default value of n_estimators will change from 10 in version 0.20 to 100 in 0.22.\n",
      "  \"10 in version 0.20 to 100 in 0.22.\", FutureWarning)\n"
     ]
    },
    {
     "data": {
      "text/plain": [
       "RandomForestRegressor(bootstrap=True, criterion='mse', max_depth=2,\n",
       "           max_features='auto', max_leaf_nodes=None,\n",
       "           min_impurity_decrease=0.0, min_impurity_split=None,\n",
       "           min_samples_leaf=1, min_samples_split=2,\n",
       "           min_weight_fraction_leaf=0.0, n_estimators=10, n_jobs=None,\n",
       "           oob_score=False, random_state=42, verbose=0, warm_start=False)"
      ]
     },
     "execution_count": 12,
     "metadata": {},
     "output_type": "execute_result"
    }
   ],
   "source": [
    "from sklearn.ensemble import RandomForestRegressor\n",
    "\n",
    "rf= RandomForestRegressor(max_depth = 2, random_state = 42)\n",
    "rf.fit(X_train, y_train)\n"
   ]
  },
  {
   "cell_type": "code",
   "execution_count": 13,
   "id": "6bf48f56-f48e-4a56-a74b-0232c43b060d",
   "metadata": {},
   "outputs": [],
   "source": [
    "y_rf_train_pred = rf.predict(X_train)\n",
    "y_rf_test_pred = rf.predict(X_test)"
   ]
  },
  {
   "cell_type": "code",
   "execution_count": 14,
   "id": "e7db5c31-a58b-4115-9721-ddeb03a278ac",
   "metadata": {},
   "outputs": [],
   "source": [
    "from sklearn.metrics import mean_squared_error, r2_score\n",
    "rf_train_mse = mean_squared_error(y_train, y_rf_train_pred)\n",
    "rf_train_r2 = r2_score(y_train, y_rf_train_pred)\n",
    "rf_test_mse = mean_squared_error(y_test, y_rf_test_pred)\n",
    "rf_test_r2 = r2_score(y_test, y_rf_test_pred)\n"
   ]
  },
  {
   "cell_type": "code",
   "execution_count": 15,
   "id": "99f10662-f0e3-4883-ae5f-dd59d192dedc",
   "metadata": {},
   "outputs": [
    {
     "data": {
      "text/html": [
       "<div>\n",
       "<style scoped>\n",
       "    .dataframe tbody tr th:only-of-type {\n",
       "        vertical-align: middle;\n",
       "    }\n",
       "\n",
       "    .dataframe tbody tr th {\n",
       "        vertical-align: top;\n",
       "    }\n",
       "\n",
       "    .dataframe thead th {\n",
       "        text-align: right;\n",
       "    }\n",
       "</style>\n",
       "<table border=\"1\" class=\"dataframe\">\n",
       "  <thead>\n",
       "    <tr style=\"text-align: right;\">\n",
       "      <th></th>\n",
       "      <th>Method</th>\n",
       "      <th>Training MSE</th>\n",
       "      <th>Training R2</th>\n",
       "      <th>Test MSE</th>\n",
       "      <th>Test R2</th>\n",
       "    </tr>\n",
       "  </thead>\n",
       "  <tbody>\n",
       "    <tr>\n",
       "      <th>0</th>\n",
       "      <td>Random forest</td>\n",
       "      <td>1.04579</td>\n",
       "      <td>0.762284</td>\n",
       "      <td>1.03683</td>\n",
       "      <td>0.761896</td>\n",
       "    </tr>\n",
       "  </tbody>\n",
       "</table>\n",
       "</div>"
      ],
      "text/plain": [
       "          Method Training MSE Training R2 Test MSE   Test R2\n",
       "0  Random forest      1.04579    0.762284  1.03683  0.761896"
      ]
     },
     "execution_count": 15,
     "metadata": {},
     "output_type": "execute_result"
    }
   ],
   "source": [
    "rf_results = pd.DataFrame(['Random forest',rf_train_mse, rf_train_r2, rf_test_mse, rf_test_r2]).transpose()\n",
    "rf_results.columns = ['Method','Training MSE','Training R2','Test MSE','Test R2']\n",
    "\n",
    "pd.concat([rf_results])"
   ]
  },
  {
   "cell_type": "markdown",
   "id": "a4d496f7-0efa-4066-b9ef-933edffb3a4a",
   "metadata": {},
   "source": [
    "\n",
    ".\n",
    "\n",
    "3. Other machine learning algorithms\n",
    "\n",
    "To build models using other machine learning algorithms (aside from sklearn.ensemble.RandomForestRegressor that we had used above), we need only decide on which algorithms to use from the available regressors (i.e. since the dataset’s Y variable contain categorical values).\n",
    "\n",
    "    List of Regressors\n",
    "    \n",
    "\n",
    "Let’s take a look at some example regressors that we can choose from:\n",
    "\n",
    "sklearn.linear_model.Ridge\n",
    "\n",
    "sklearn.linear_model.SGDRegressor\n",
    "\n",
    "sklearn.ensemble.ExtraTreesRegressor\n",
    "\n",
    "sklearn.ensemble.GradientBoostingRegressor\n",
    "\n",
    "sklearn.neighbors.KNeighborsRegressor\n",
    "\n",
    "sklearn.neural_network.MLPRegressor\n",
    "\n",
    "sklearn.tree.DecisionTreeRegressor\n",
    "\n",
    "sklearn.tree.ExtraTreeRegressor\n",
    "\n",
    "sklearn.svm.LinearSVR\n",
    "\n",
    "sklearn.svm.SVR"
   ]
  },
  {
   "cell_type": "code",
   "execution_count": 16,
   "id": "f592a16e-99c8-437f-a775-27630f5a3dcc",
   "metadata": {},
   "outputs": [
    {
     "data": {
      "text/plain": [
       "ExtraTreeRegressor(criterion='mse', max_depth=None, max_features='auto',\n",
       "          max_leaf_nodes=None, min_impurity_decrease=0.0,\n",
       "          min_impurity_split=None, min_samples_leaf=1, min_samples_split=2,\n",
       "          min_weight_fraction_leaf=0.0, random_state=42, splitter='random')"
      ]
     },
     "execution_count": 16,
     "metadata": {},
     "output_type": "execute_result"
    }
   ],
   "source": [
    "#using the sklearn.tree.ExtraTreeRegressor\n",
    "from sklearn.tree import ExtraTreeRegressor\n",
    "\n",
    "et = ExtraTreeRegressor(random_state = 42)\n",
    "et.fit(X_train, y_train)\n",
    "\n",
    "#fit()function is how we subject the variable to data training"
   ]
  },
  {
   "cell_type": "code",
   "execution_count": 17,
   "id": "b7d6f161-4f51-49c0-84a6-34eec9a745a4",
   "metadata": {},
   "outputs": [
    {
     "data": {
      "text/html": [
       "<div>\n",
       "<style scoped>\n",
       "    .dataframe tbody tr th:only-of-type {\n",
       "        vertical-align: middle;\n",
       "    }\n",
       "\n",
       "    .dataframe tbody tr th {\n",
       "        vertical-align: top;\n",
       "    }\n",
       "\n",
       "    .dataframe thead th {\n",
       "        text-align: right;\n",
       "    }\n",
       "</style>\n",
       "<table border=\"1\" class=\"dataframe\">\n",
       "  <thead>\n",
       "    <tr style=\"text-align: right;\">\n",
       "      <th></th>\n",
       "      <th>Method</th>\n",
       "      <th>Training MSE</th>\n",
       "      <th>Training R2</th>\n",
       "      <th>Test MSE</th>\n",
       "      <th>Test R2</th>\n",
       "    </tr>\n",
       "  </thead>\n",
       "  <tbody>\n",
       "    <tr>\n",
       "      <th>0</th>\n",
       "      <td>Linear Regression</td>\n",
       "      <td>1.01399</td>\n",
       "      <td>0.769513</td>\n",
       "      <td>0.999084</td>\n",
       "      <td>0.770565</td>\n",
       "    </tr>\n",
       "    <tr>\n",
       "      <th>0</th>\n",
       "      <td>Random forest</td>\n",
       "      <td>1.04579</td>\n",
       "      <td>0.762284</td>\n",
       "      <td>1.03683</td>\n",
       "      <td>0.761896</td>\n",
       "    </tr>\n",
       "  </tbody>\n",
       "</table>\n",
       "</div>"
      ],
      "text/plain": [
       "              Method Training MSE Training R2  Test MSE   Test R2\n",
       "0  Linear Regression      1.01399    0.769513  0.999084  0.770565\n",
       "0      Random forest      1.04579    0.762284   1.03683  0.761896"
      ]
     },
     "execution_count": 17,
     "metadata": {},
     "output_type": "execute_result"
    }
   ],
   "source": [
    "pd.concat([lr_results, rf_results])"
   ]
  },
  {
   "cell_type": "code",
   "execution_count": 18,
   "id": "ffdcb8ed-5b06-4221-b085-d541a5764217",
   "metadata": {},
   "outputs": [
    {
     "data": {
      "text/plain": [
       "Text(0.5, 0, 'Experimental LogS')"
      ]
     },
     "execution_count": 18,
     "metadata": {},
     "output_type": "execute_result"
    },
    {
     "data": {
      "image/png": "[encoded data removed]",
      "text/plain": [
       "<Figure size 360x360 with 1 Axes>"
      ]
     },
     "metadata": {
      "needs_background": "light"
     },
     "output_type": "display_data"
    }
   ],
   "source": [
    "import matplotlib.pyplot as plt\n",
    "import numpy as np\n",
    "\n",
    "plt.figure(figsize=(5,5))\n",
    "plt.scatter(x=y_train, y=y_linearRegression_train_prediction, c=\"#7CAE00\", alpha = 0.3)\n",
    "\n",
    "z= np.polyfit(y_train,y_linearRegression_train_prediction, 1)\n",
    "p= np.poly1d(z)\n",
    "\n",
    "plt.plot(y_train, p(y_train), \"#0000FF\")\n",
    "plt.ylabel('Predicted LogS')\n",
    "plt.xlabel('Experimental LogS')"
   ]
  },
  {
   "cell_type": "code",
   "execution_count": null,
   "id": "98c1b489-26e4-43ec-99ea-34bf6ade44e5",
   "metadata": {},
   "outputs": [],
   "source": []
  }
 ],
 "metadata": {
  "kernelspec": {
   "display_name": "Python",
   "language": "python",
   "name": "conda-env-python-py"
  },
  "language_info": {
   "codemirror_mode": {
    "name": "ipython",
    "version": 3
   },
   "file_extension": ".py",
   "mimetype": "text/x-python",
   "name": "python",
   "nbconvert_exporter": "python",
   "pygments_lexer": "ipython3",
   "version": "3.6.13"
  }
 },
 "nbformat": 4,
 "nbformat_minor": 5
}
